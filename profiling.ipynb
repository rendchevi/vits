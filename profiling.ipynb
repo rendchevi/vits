{
 "cells": [
  {
   "cell_type": "code",
   "execution_count": 1,
   "metadata": {},
   "outputs": [],
   "source": [
    "import utils\n",
    "from text.symbols import symbols\n",
    "from models import SynthesizerTrn, MultiPeriodDiscriminator"
   ]
  },
  {
   "cell_type": "code",
   "execution_count": 2,
   "metadata": {},
   "outputs": [],
   "source": [
    "def count_params_G(net_g):\n",
    "    enc_p_param = sum(p.numel() for p in net_g.enc_p.parameters())\n",
    "    dp_param = sum(p.numel() for p in net_g.dp.parameters())\n",
    "    enc_q_param = sum(p.numel() for p in net_g.enc_q.parameters())\n",
    "    flow_param = sum(p.numel() for p in net_g.flow.parameters())\n",
    "    dec_param = sum(p.numel() for p in net_g.dec.parameters())\n",
    "    total_g = enc_p_param + dp_param + enc_q_param + flow_param + dec_param\n",
    "\n",
    "    print(f\"Prior Encoder: {enc_p_param}\")\n",
    "    print(f\"DP: {dp_param}\")\n",
    "\n",
    "    print(f\"Posterior Encoder: {enc_q_param}\")\n",
    "    print(f\"Flow: {flow_param}\")\n",
    "    print(f\"Decoder: {dec_param}\")\n",
    "\n",
    "    print(f\"Total G: {total_g}\")"
   ]
  },
  {
   "cell_type": "code",
   "execution_count": 3,
   "metadata": {},
   "outputs": [],
   "source": [
    "hps = utils.get_hparams_from_file(\"./configs/ljs_small.json\")"
   ]
  },
  {
   "cell_type": "code",
   "execution_count": 6,
   "metadata": {},
   "outputs": [],
   "source": [
    "net_g = SynthesizerTrn(\n",
    "    hps,\n",
    "    len(symbols),\n",
    "    hps.data.filter_length // 2 + 1,\n",
    "    hps.train.segment_size // hps.data.hop_length,\n",
    "    **hps.model).cpu()\n",
    "\n",
    "net_d = MultiPeriodDiscriminator(hps.model.use_spectral_norm).cpu()"
   ]
  },
  {
   "cell_type": "code",
   "execution_count": 7,
   "metadata": {},
   "outputs": [
    {
     "name": "stdout",
     "output_type": "stream",
     "text": [
      "Prior Encoder: 3214944\n",
      "DP: 1317168\n",
      "Posterior Encoder: 3686784\n",
      "Flow: 3550848\n",
      "Decoder: 7014144\n",
      "Total G: 18783888\n",
      "46747132\n"
     ]
    }
   ],
   "source": [
    "count_params_G(net_g)\n",
    "print(sum(p.numel() for p in net_d.parameters()))"
   ]
  },
  {
   "cell_type": "code",
   "execution_count": null,
   "metadata": {},
   "outputs": [],
   "source": []
  }
 ],
 "metadata": {
  "kernelspec": {
   "display_name": "Python 3.8.8 64-bit ('hugsy': conda)",
   "name": "hugsy"
  },
  "language_info": {
   "codemirror_mode": {
    "name": "ipython",
    "version": 3
   },
   "file_extension": ".py",
   "mimetype": "text/x-python",
   "name": "python",
   "nbconvert_exporter": "python",
   "pygments_lexer": "ipython3",
   "version": "3.8.8"
  },
  "orig_nbformat": 2
 },
 "nbformat": 4,
 "nbformat_minor": 2
}